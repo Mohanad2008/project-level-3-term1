{
  "cells": [
    {
      "cell_type": "markdown",
      "metadata": {
        "id": "kANIQXoRrwr6"
      },
      "source": [
        "# Project: TMDB data set\n",
        "\n",
        "\n",
        "\n",
        "## Table of Contents\n",
        "<ul>\n",
        "<li><a href=\"#intro\">Introduction</a></li>\n",
        "<li><a href=\"#wrangling\">Data Wrangling</a></li>\n",
        "<li><a href=\"#data-cleaning\">Data Cleaning</a></li>\n",
        "<li><a href=\"#eda\">Exploratory Data Analysis</a></li>\n",
        "<li><a href=\"#conclusions\">Conclusions</a></li>\n",
        "</ul>\n",
        "\n"
      ]
    },
    {
      "cell_type": "markdown",
      "metadata": {
        "id": "xCNtnQf_rwsA"
      },
      "source": [
        "<a id='intro'></a>\n",
        "## Introduction\n",
        "\n",
        "### Questions\n",
        "  <ol>\n",
        "  <li>Is there Relation Between the budget and revenue?</li>\n",
        "  <li>What is the most common run time</li>\n",
        "  </ol>"
      ]
    },
    {
      "cell_type": "code",
      "execution_count": 1,
      "metadata": {
        "id": "8iOpGTN8yW-J"
      },
      "outputs": [],
      "source": [
        "import pandas as pd\n",
        "import seaborn as sns\n",
        "import matplotlib.pyplot as plt\n"
      ]
    },
    {
      "cell_type": "markdown",
      "metadata": {
        "id": "x2p7qew58CVT"
      },
      "source": [
        "we imported some libraries"
      ]
    },
    {
      "cell_type": "code",
      "execution_count": 2,
      "metadata": {
        "colab": {
          "base_uri": "https://localhost:8080/",
          "height": 655
        },
        "id": "D10kxl8r8kLP",
        "outputId": "0d0da7f4-fd4d-477b-ce80-dfd9371a76ee"
      },
      "outputs": [
        {
          "data": {
            "application/vnd.microsoft.datawrangler.viewer.v0+json": {
              "columns": [
                {
                  "name": "index",
                  "rawType": "int64",
                  "type": "integer"
                },
                {
                  "name": "id",
                  "rawType": "int64",
                  "type": "integer"
                },
                {
                  "name": "imdb_id",
                  "rawType": "object",
                  "type": "string"
                },
                {
                  "name": "popularity",
                  "rawType": "float64",
                  "type": "float"
                },
                {
                  "name": "budget",
                  "rawType": "int64",
                  "type": "integer"
                },
                {
                  "name": "revenue",
                  "rawType": "int64",
                  "type": "integer"
                },
                {
                  "name": "original_title",
                  "rawType": "object",
                  "type": "string"
                },
                {
                  "name": "cast",
                  "rawType": "object",
                  "type": "string"
                },
                {
                  "name": "homepage",
                  "rawType": "object",
                  "type": "string"
                },
                {
                  "name": "director",
                  "rawType": "object",
                  "type": "string"
                },
                {
                  "name": "tagline",
                  "rawType": "object",
                  "type": "string"
                },
                {
                  "name": "keywords",
                  "rawType": "object",
                  "type": "string"
                },
                {
                  "name": "overview",
                  "rawType": "object",
                  "type": "string"
                },
                {
                  "name": "runtime",
                  "rawType": "int64",
                  "type": "integer"
                },
                {
                  "name": "genres",
                  "rawType": "object",
                  "type": "string"
                },
                {
                  "name": "production_companies",
                  "rawType": "object",
                  "type": "string"
                },
                {
                  "name": "release_date",
                  "rawType": "object",
                  "type": "string"
                },
                {
                  "name": "vote_count",
                  "rawType": "int64",
                  "type": "integer"
                },
                {
                  "name": "vote_average",
                  "rawType": "float64",
                  "type": "float"
                },
                {
                  "name": "release_year",
                  "rawType": "int64",
                  "type": "integer"
                },
                {
                  "name": "budget_adj",
                  "rawType": "float64",
                  "type": "float"
                },
                {
                  "name": "revenue_adj",
                  "rawType": "float64",
                  "type": "float"
                }
              ],
              "conversionMethod": "pd.DataFrame",
              "ref": "2950b9cb-a8fc-42c5-bdaa-cff40fccf5c5",
              "rows": [
                [
                  "0",
                  "135397",
                  "tt0369610",
                  "32.985763",
                  "150000000",
                  "1513528810",
                  "Jurassic World",
                  "Chris Pratt|Bryce Dallas Howard|Irrfan Khan|Vincent D'Onofrio|Nick Robinson",
                  "http://www.jurassicworld.com/",
                  "Colin Trevorrow",
                  "The park is open.",
                  "monster|dna|tyrannosaurus rex|velociraptor|island",
                  "Twenty-two years after the events of Jurassic Park, Isla Nublar now features a fully functioning dinosaur theme park, Jurassic World, as originally envisioned by John Hammond.",
                  "124",
                  "Action|Adventure|Science Fiction|Thriller",
                  "Universal Studios|Amblin Entertainment|Legendary Pictures|Fuji Television Network|Dentsu",
                  "6/9/15",
                  "5562",
                  "6.5",
                  "2015",
                  "137999939.280026",
                  "1392445892.5238"
                ],
                [
                  "1",
                  "76341",
                  "tt1392190",
                  "28.419936",
                  "150000000",
                  "378436354",
                  "Mad Max: Fury Road",
                  "Tom Hardy|Charlize Theron|Hugh Keays-Byrne|Nicholas Hoult|Josh Helman",
                  "http://www.madmaxmovie.com/",
                  "George Miller",
                  "What a Lovely Day.",
                  "future|chase|post-apocalyptic|dystopia|australia",
                  "An apocalyptic story set in the furthest reaches of our planet, in a stark desert landscape where humanity is broken, and most everyone is crazed fighting for the necessities of life. Within this world exist two rebels on the run who just might be able to restore order. There's Max, a man of action and a man of few words, who seeks peace of mind following the loss of his wife and child in the aftermath of the chaos. And Furiosa, a woman of action and a woman who believes her path to survival may be achieved if she can make it across the desert back to her childhood homeland.",
                  "120",
                  "Action|Adventure|Science Fiction|Thriller",
                  "Village Roadshow Pictures|Kennedy Miller Productions",
                  "5/13/15",
                  "6185",
                  "7.1",
                  "2015",
                  "137999939.280026",
                  "348161292.489031"
                ],
                [
                  "2",
                  "262500",
                  "tt2908446",
                  "13.112507",
                  "110000000",
                  "295238201",
                  "Insurgent",
                  "Shailene Woodley|Theo James|Kate Winslet|Ansel Elgort|Miles Teller",
                  "http://www.thedivergentseries.movie/#insurgent",
                  "Robert Schwentke",
                  "One Choice Can Destroy You",
                  "based on novel|revolution|dystopia|sequel|dystopic future",
                  "Beatrice Prior must confront her inner demons and continue her fight against a powerful alliance which threatens to tear her society apart.",
                  "119",
                  "Adventure|Science Fiction|Thriller",
                  "Summit Entertainment|Mandeville Films|Red Wagon Entertainment|NeoReel",
                  "3/18/15",
                  "2480",
                  "6.3",
                  "2015",
                  "101199955.472019",
                  "271619025.407628"
                ],
                [
                  "3",
                  "140607",
                  "tt2488496",
                  "11.173104",
                  "200000000",
                  "2068178225",
                  "Star Wars: The Force Awakens",
                  "Harrison Ford|Mark Hamill|Carrie Fisher|Adam Driver|Daisy Ridley",
                  "http://www.starwars.com/films/star-wars-episode-vii",
                  "J.J. Abrams",
                  "Every generation has a story.",
                  "android|spaceship|jedi|space opera|3d",
                  "Thirty years after defeating the Galactic Empire, Han Solo and his allies face a new threat from the evil Kylo Ren and his army of Stormtroopers.",
                  "136",
                  "Action|Adventure|Science Fiction|Fantasy",
                  "Lucasfilm|Truenorth Productions|Bad Robot",
                  "12/15/15",
                  "5292",
                  "7.5",
                  "2015",
                  "183999919.040035",
                  "1902723129.80182"
                ],
                [
                  "4",
                  "168259",
                  "tt2820852",
                  "9.335014",
                  "190000000",
                  "1506249360",
                  "Furious 7",
                  "Vin Diesel|Paul Walker|Jason Statham|Michelle Rodriguez|Dwayne Johnson",
                  "http://www.furious7.com/",
                  "James Wan",
                  "Vengeance Hits Home",
                  "car race|speed|revenge|suspense|car",
                  "Deckard Shaw seeks revenge against Dominic Toretto and his family for his comatose brother.",
                  "137",
                  "Action|Crime|Thriller",
                  "Universal Pictures|Original Film|Media Rights Capital|Dentsu|One Race Films",
                  "4/1/15",
                  "2947",
                  "7.3",
                  "2015",
                  "174799923.088033",
                  "1385748801.47052"
                ]
              ],
              "shape": {
                "columns": 21,
                "rows": 5
              }
            },
            "text/html": [
              "<div>\n",
              "<style scoped>\n",
              "    .dataframe tbody tr th:only-of-type {\n",
              "        vertical-align: middle;\n",
              "    }\n",
              "\n",
              "    .dataframe tbody tr th {\n",
              "        vertical-align: top;\n",
              "    }\n",
              "\n",
              "    .dataframe thead th {\n",
              "        text-align: right;\n",
              "    }\n",
              "</style>\n",
              "<table border=\"1\" class=\"dataframe\">\n",
              "  <thead>\n",
              "    <tr style=\"text-align: right;\">\n",
              "      <th></th>\n",
              "      <th>id</th>\n",
              "      <th>imdb_id</th>\n",
              "      <th>popularity</th>\n",
              "      <th>budget</th>\n",
              "      <th>revenue</th>\n",
              "      <th>original_title</th>\n",
              "      <th>cast</th>\n",
              "      <th>homepage</th>\n",
              "      <th>director</th>\n",
              "      <th>tagline</th>\n",
              "      <th>...</th>\n",
              "      <th>overview</th>\n",
              "      <th>runtime</th>\n",
              "      <th>genres</th>\n",
              "      <th>production_companies</th>\n",
              "      <th>release_date</th>\n",
              "      <th>vote_count</th>\n",
              "      <th>vote_average</th>\n",
              "      <th>release_year</th>\n",
              "      <th>budget_adj</th>\n",
              "      <th>revenue_adj</th>\n",
              "    </tr>\n",
              "  </thead>\n",
              "  <tbody>\n",
              "    <tr>\n",
              "      <th>0</th>\n",
              "      <td>135397</td>\n",
              "      <td>tt0369610</td>\n",
              "      <td>32.985763</td>\n",
              "      <td>150000000</td>\n",
              "      <td>1513528810</td>\n",
              "      <td>Jurassic World</td>\n",
              "      <td>Chris Pratt|Bryce Dallas Howard|Irrfan Khan|Vi...</td>\n",
              "      <td>http://www.jurassicworld.com/</td>\n",
              "      <td>Colin Trevorrow</td>\n",
              "      <td>The park is open.</td>\n",
              "      <td>...</td>\n",
              "      <td>Twenty-two years after the events of Jurassic ...</td>\n",
              "      <td>124</td>\n",
              "      <td>Action|Adventure|Science Fiction|Thriller</td>\n",
              "      <td>Universal Studios|Amblin Entertainment|Legenda...</td>\n",
              "      <td>6/9/15</td>\n",
              "      <td>5562</td>\n",
              "      <td>6.5</td>\n",
              "      <td>2015</td>\n",
              "      <td>1.379999e+08</td>\n",
              "      <td>1.392446e+09</td>\n",
              "    </tr>\n",
              "    <tr>\n",
              "      <th>1</th>\n",
              "      <td>76341</td>\n",
              "      <td>tt1392190</td>\n",
              "      <td>28.419936</td>\n",
              "      <td>150000000</td>\n",
              "      <td>378436354</td>\n",
              "      <td>Mad Max: Fury Road</td>\n",
              "      <td>Tom Hardy|Charlize Theron|Hugh Keays-Byrne|Nic...</td>\n",
              "      <td>http://www.madmaxmovie.com/</td>\n",
              "      <td>George Miller</td>\n",
              "      <td>What a Lovely Day.</td>\n",
              "      <td>...</td>\n",
              "      <td>An apocalyptic story set in the furthest reach...</td>\n",
              "      <td>120</td>\n",
              "      <td>Action|Adventure|Science Fiction|Thriller</td>\n",
              "      <td>Village Roadshow Pictures|Kennedy Miller Produ...</td>\n",
              "      <td>5/13/15</td>\n",
              "      <td>6185</td>\n",
              "      <td>7.1</td>\n",
              "      <td>2015</td>\n",
              "      <td>1.379999e+08</td>\n",
              "      <td>3.481613e+08</td>\n",
              "    </tr>\n",
              "    <tr>\n",
              "      <th>2</th>\n",
              "      <td>262500</td>\n",
              "      <td>tt2908446</td>\n",
              "      <td>13.112507</td>\n",
              "      <td>110000000</td>\n",
              "      <td>295238201</td>\n",
              "      <td>Insurgent</td>\n",
              "      <td>Shailene Woodley|Theo James|Kate Winslet|Ansel...</td>\n",
              "      <td>http://www.thedivergentseries.movie/#insurgent</td>\n",
              "      <td>Robert Schwentke</td>\n",
              "      <td>One Choice Can Destroy You</td>\n",
              "      <td>...</td>\n",
              "      <td>Beatrice Prior must confront her inner demons ...</td>\n",
              "      <td>119</td>\n",
              "      <td>Adventure|Science Fiction|Thriller</td>\n",
              "      <td>Summit Entertainment|Mandeville Films|Red Wago...</td>\n",
              "      <td>3/18/15</td>\n",
              "      <td>2480</td>\n",
              "      <td>6.3</td>\n",
              "      <td>2015</td>\n",
              "      <td>1.012000e+08</td>\n",
              "      <td>2.716190e+08</td>\n",
              "    </tr>\n",
              "    <tr>\n",
              "      <th>3</th>\n",
              "      <td>140607</td>\n",
              "      <td>tt2488496</td>\n",
              "      <td>11.173104</td>\n",
              "      <td>200000000</td>\n",
              "      <td>2068178225</td>\n",
              "      <td>Star Wars: The Force Awakens</td>\n",
              "      <td>Harrison Ford|Mark Hamill|Carrie Fisher|Adam D...</td>\n",
              "      <td>http://www.starwars.com/films/star-wars-episod...</td>\n",
              "      <td>J.J. Abrams</td>\n",
              "      <td>Every generation has a story.</td>\n",
              "      <td>...</td>\n",
              "      <td>Thirty years after defeating the Galactic Empi...</td>\n",
              "      <td>136</td>\n",
              "      <td>Action|Adventure|Science Fiction|Fantasy</td>\n",
              "      <td>Lucasfilm|Truenorth Productions|Bad Robot</td>\n",
              "      <td>12/15/15</td>\n",
              "      <td>5292</td>\n",
              "      <td>7.5</td>\n",
              "      <td>2015</td>\n",
              "      <td>1.839999e+08</td>\n",
              "      <td>1.902723e+09</td>\n",
              "    </tr>\n",
              "    <tr>\n",
              "      <th>4</th>\n",
              "      <td>168259</td>\n",
              "      <td>tt2820852</td>\n",
              "      <td>9.335014</td>\n",
              "      <td>190000000</td>\n",
              "      <td>1506249360</td>\n",
              "      <td>Furious 7</td>\n",
              "      <td>Vin Diesel|Paul Walker|Jason Statham|Michelle ...</td>\n",
              "      <td>http://www.furious7.com/</td>\n",
              "      <td>James Wan</td>\n",
              "      <td>Vengeance Hits Home</td>\n",
              "      <td>...</td>\n",
              "      <td>Deckard Shaw seeks revenge against Dominic Tor...</td>\n",
              "      <td>137</td>\n",
              "      <td>Action|Crime|Thriller</td>\n",
              "      <td>Universal Pictures|Original Film|Media Rights ...</td>\n",
              "      <td>4/1/15</td>\n",
              "      <td>2947</td>\n",
              "      <td>7.3</td>\n",
              "      <td>2015</td>\n",
              "      <td>1.747999e+08</td>\n",
              "      <td>1.385749e+09</td>\n",
              "    </tr>\n",
              "  </tbody>\n",
              "</table>\n",
              "<p>5 rows × 21 columns</p>\n",
              "</div>"
            ],
            "text/plain": [
              "       id    imdb_id  popularity     budget     revenue  \\\n",
              "0  135397  tt0369610   32.985763  150000000  1513528810   \n",
              "1   76341  tt1392190   28.419936  150000000   378436354   \n",
              "2  262500  tt2908446   13.112507  110000000   295238201   \n",
              "3  140607  tt2488496   11.173104  200000000  2068178225   \n",
              "4  168259  tt2820852    9.335014  190000000  1506249360   \n",
              "\n",
              "                 original_title  \\\n",
              "0                Jurassic World   \n",
              "1            Mad Max: Fury Road   \n",
              "2                     Insurgent   \n",
              "3  Star Wars: The Force Awakens   \n",
              "4                     Furious 7   \n",
              "\n",
              "                                                cast  \\\n",
              "0  Chris Pratt|Bryce Dallas Howard|Irrfan Khan|Vi...   \n",
              "1  Tom Hardy|Charlize Theron|Hugh Keays-Byrne|Nic...   \n",
              "2  Shailene Woodley|Theo James|Kate Winslet|Ansel...   \n",
              "3  Harrison Ford|Mark Hamill|Carrie Fisher|Adam D...   \n",
              "4  Vin Diesel|Paul Walker|Jason Statham|Michelle ...   \n",
              "\n",
              "                                            homepage          director  \\\n",
              "0                      http://www.jurassicworld.com/   Colin Trevorrow   \n",
              "1                        http://www.madmaxmovie.com/     George Miller   \n",
              "2     http://www.thedivergentseries.movie/#insurgent  Robert Schwentke   \n",
              "3  http://www.starwars.com/films/star-wars-episod...       J.J. Abrams   \n",
              "4                           http://www.furious7.com/         James Wan   \n",
              "\n",
              "                         tagline  ...  \\\n",
              "0              The park is open.  ...   \n",
              "1             What a Lovely Day.  ...   \n",
              "2     One Choice Can Destroy You  ...   \n",
              "3  Every generation has a story.  ...   \n",
              "4            Vengeance Hits Home  ...   \n",
              "\n",
              "                                            overview runtime  \\\n",
              "0  Twenty-two years after the events of Jurassic ...     124   \n",
              "1  An apocalyptic story set in the furthest reach...     120   \n",
              "2  Beatrice Prior must confront her inner demons ...     119   \n",
              "3  Thirty years after defeating the Galactic Empi...     136   \n",
              "4  Deckard Shaw seeks revenge against Dominic Tor...     137   \n",
              "\n",
              "                                      genres  \\\n",
              "0  Action|Adventure|Science Fiction|Thriller   \n",
              "1  Action|Adventure|Science Fiction|Thriller   \n",
              "2         Adventure|Science Fiction|Thriller   \n",
              "3   Action|Adventure|Science Fiction|Fantasy   \n",
              "4                      Action|Crime|Thriller   \n",
              "\n",
              "                                production_companies release_date vote_count  \\\n",
              "0  Universal Studios|Amblin Entertainment|Legenda...       6/9/15       5562   \n",
              "1  Village Roadshow Pictures|Kennedy Miller Produ...      5/13/15       6185   \n",
              "2  Summit Entertainment|Mandeville Films|Red Wago...      3/18/15       2480   \n",
              "3          Lucasfilm|Truenorth Productions|Bad Robot     12/15/15       5292   \n",
              "4  Universal Pictures|Original Film|Media Rights ...       4/1/15       2947   \n",
              "\n",
              "   vote_average  release_year    budget_adj   revenue_adj  \n",
              "0           6.5          2015  1.379999e+08  1.392446e+09  \n",
              "1           7.1          2015  1.379999e+08  3.481613e+08  \n",
              "2           6.3          2015  1.012000e+08  2.716190e+08  \n",
              "3           7.5          2015  1.839999e+08  1.902723e+09  \n",
              "4           7.3          2015  1.747999e+08  1.385749e+09  \n",
              "\n",
              "[5 rows x 21 columns]"
            ]
          },
          "execution_count": 2,
          "metadata": {},
          "output_type": "execute_result"
        }
      ],
      "source": [
        "tmdb = pd.read_csv(\"tmdb-movies.csv\")\n",
        "tmdb.head()"
      ]
    },
    {
      "cell_type": "markdown",
      "metadata": {
        "id": "UkHed3WdrwsJ"
      },
      "source": [
        "<a id='wrangling'></a>\n",
        "## Data Wrangling"
      ]
    },
    {
      "cell_type": "markdown",
      "metadata": {
        "id": "PkwyKdKorwsL"
      },
      "source": [
        "### General Properties"
      ]
    },
    {
      "cell_type": "markdown",
      "metadata": {
        "id": "pa_vaONk9AWj"
      },
      "source": [
        "now we will check if the dataframe have any problems like missing value, duplicates , .....etc\n"
      ]
    },
    {
      "cell_type": "code",
      "execution_count": 3,
      "metadata": {
        "colab": {
          "base_uri": "https://localhost:8080/"
        },
        "id": "q7FNW5R48_m-",
        "outputId": "9982d176-c384-4501-d2d1-c873fb5f4148"
      },
      "outputs": [
        {
          "name": "stdout",
          "output_type": "stream",
          "text": [
            "<class 'pandas.core.frame.DataFrame'>\n",
            "RangeIndex: 10866 entries, 0 to 10865\n",
            "Data columns (total 21 columns):\n",
            " #   Column                Non-Null Count  Dtype  \n",
            "---  ------                --------------  -----  \n",
            " 0   id                    10866 non-null  int64  \n",
            " 1   imdb_id               10856 non-null  object \n",
            " 2   popularity            10866 non-null  float64\n",
            " 3   budget                10866 non-null  int64  \n",
            " 4   revenue               10866 non-null  int64  \n",
            " 5   original_title        10866 non-null  object \n",
            " 6   cast                  10790 non-null  object \n",
            " 7   homepage              2936 non-null   object \n",
            " 8   director              10822 non-null  object \n",
            " 9   tagline               8042 non-null   object \n",
            " 10  keywords              9373 non-null   object \n",
            " 11  overview              10862 non-null  object \n",
            " 12  runtime               10866 non-null  int64  \n",
            " 13  genres                10843 non-null  object \n",
            " 14  production_companies  9836 non-null   object \n",
            " 15  release_date          10866 non-null  object \n",
            " 16  vote_count            10866 non-null  int64  \n",
            " 17  vote_average          10866 non-null  float64\n",
            " 18  release_year          10866 non-null  int64  \n",
            " 19  budget_adj            10866 non-null  float64\n",
            " 20  revenue_adj           10866 non-null  float64\n",
            "dtypes: float64(4), int64(6), object(11)\n",
            "memory usage: 1.7+ MB\n"
          ]
        }
      ],
      "source": [
        "tmdb.info()"
      ]
    },
    {
      "cell_type": "markdown",
      "metadata": {
        "id": "PMZv5uQPAgMI"
      },
      "source": [
        "now we noticed a problem in dtype like the release date is object not date"
      ]
    },
    {
      "cell_type": "code",
      "execution_count": 4,
      "metadata": {
        "colab": {
          "base_uri": "https://localhost:8080/",
          "height": 743
        },
        "id": "X8ulv7-I_xGe",
        "outputId": "17414444-ce28-415c-be34-4c938dfec0a6"
      },
      "outputs": [
        {
          "data": {
            "text/plain": [
              "id                         0\n",
              "imdb_id                   10\n",
              "popularity                 0\n",
              "budget                     0\n",
              "revenue                    0\n",
              "original_title             0\n",
              "cast                      76\n",
              "homepage                7930\n",
              "director                  44\n",
              "tagline                 2824\n",
              "keywords                1493\n",
              "overview                   4\n",
              "runtime                    0\n",
              "genres                    23\n",
              "production_companies    1030\n",
              "release_date               0\n",
              "vote_count                 0\n",
              "vote_average               0\n",
              "release_year               0\n",
              "budget_adj                 0\n",
              "revenue_adj                0\n",
              "dtype: int64"
            ]
          },
          "execution_count": 4,
          "metadata": {},
          "output_type": "execute_result"
        }
      ],
      "source": [
        "tmdb.isna().sum()"
      ]
    },
    {
      "cell_type": "markdown",
      "metadata": {
        "id": "hci6Je3K95WH"
      },
      "source": [
        "\n",
        "\n",
        "and we noticed in columns : imdb_id , cast , homepage ,director , tagline , keywords , overiew , genres and production_companies have missing values\n",
        "\n",
        "\n",
        "---\n",
        "\n",
        "\n"
      ]
    },
    {
      "cell_type": "markdown",
      "metadata": {
        "id": "seeWcjkq_a3M"
      },
      "source": [
        "now we will check if there are duplicates"
      ]
    },
    {
      "cell_type": "code",
      "execution_count": 5,
      "metadata": {
        "colab": {
          "base_uri": "https://localhost:8080/"
        },
        "id": "B-QDJsB3_jA8",
        "outputId": "8a25c7fc-5378-4a8f-f9ef-b566b36f161b"
      },
      "outputs": [
        {
          "data": {
            "text/plain": [
              "np.int64(1)"
            ]
          },
          "execution_count": 5,
          "metadata": {},
          "output_type": "execute_result"
        }
      ],
      "source": [
        "tmdb.duplicated().sum()"
      ]
    },
    {
      "cell_type": "markdown",
      "metadata": {
        "id": "qkEGcf6FAM0D"
      },
      "source": [
        "we noticed that there is one duplicate in whole this data\n",
        "\n",
        "\n",
        "---\n",
        "\n"
      ]
    },
    {
      "cell_type": "markdown",
      "metadata": {
        "id": "40cm8seNBP29"
      },
      "source": [
        "now we will check if there something is not logical"
      ]
    },
    {
      "cell_type": "code",
      "execution_count": 6,
      "metadata": {
        "colab": {
          "base_uri": "https://localhost:8080/",
          "height": 320
        },
        "id": "AJUnsFZYAynE",
        "outputId": "86f6aa57-72df-436e-f625-34c3c8bf4537"
      },
      "outputs": [
        {
          "data": {
            "application/vnd.microsoft.datawrangler.viewer.v0+json": {
              "columns": [
                {
                  "name": "index",
                  "rawType": "object",
                  "type": "string"
                },
                {
                  "name": "id",
                  "rawType": "float64",
                  "type": "float"
                },
                {
                  "name": "popularity",
                  "rawType": "float64",
                  "type": "float"
                },
                {
                  "name": "budget",
                  "rawType": "float64",
                  "type": "float"
                },
                {
                  "name": "revenue",
                  "rawType": "float64",
                  "type": "float"
                },
                {
                  "name": "runtime",
                  "rawType": "float64",
                  "type": "float"
                },
                {
                  "name": "vote_count",
                  "rawType": "float64",
                  "type": "float"
                },
                {
                  "name": "vote_average",
                  "rawType": "float64",
                  "type": "float"
                },
                {
                  "name": "release_year",
                  "rawType": "float64",
                  "type": "float"
                },
                {
                  "name": "budget_adj",
                  "rawType": "float64",
                  "type": "float"
                },
                {
                  "name": "revenue_adj",
                  "rawType": "float64",
                  "type": "float"
                }
              ],
              "conversionMethod": "pd.DataFrame",
              "ref": "6741d3e1-eee4-4246-8698-f13cb09f514c",
              "rows": [
                [
                  "count",
                  "10866.0",
                  "10866.0",
                  "10866.0",
                  "10866.0",
                  "10866.0",
                  "10866.0",
                  "10866.0",
                  "10866.0",
                  "10866.0",
                  "10866.0"
                ],
                [
                  "mean",
                  "66064.17743419841",
                  "0.6464409519602429",
                  "14625701.09414688",
                  "39823319.79339223",
                  "102.07086324314375",
                  "217.38974783729063",
                  "5.9749217743419845",
                  "2001.3226578317688",
                  "17551039.82288678",
                  "51364363.25325099"
                ],
                [
                  "std",
                  "92130.13656095472",
                  "1.000184934309346",
                  "30913213.831436705",
                  "117003486.58208467",
                  "31.381405082206367",
                  "575.6190577320124",
                  "0.9351418153269365",
                  "12.81294057109453",
                  "34306155.72284369",
                  "144632485.03997537"
                ],
                [
                  "min",
                  "5.0",
                  "6.5e-05",
                  "0.0",
                  "0.0",
                  "0.0",
                  "10.0",
                  "1.5",
                  "1960.0",
                  "0.0",
                  "0.0"
                ],
                [
                  "25%",
                  "10596.25",
                  "0.20758275",
                  "0.0",
                  "0.0",
                  "90.0",
                  "17.0",
                  "5.4",
                  "1995.0",
                  "0.0",
                  "0.0"
                ],
                [
                  "50%",
                  "20669.0",
                  "0.3838555",
                  "0.0",
                  "0.0",
                  "99.0",
                  "38.0",
                  "6.0",
                  "2006.0",
                  "0.0",
                  "0.0"
                ],
                [
                  "75%",
                  "75610.0",
                  "0.7138169999999999",
                  "15000000.0",
                  "24000000.0",
                  "111.0",
                  "145.75",
                  "6.6",
                  "2011.0",
                  "20853251.0844038",
                  "33697095.717311524"
                ],
                [
                  "max",
                  "417859.0",
                  "32.985763",
                  "425000000.0",
                  "2781505847.0",
                  "900.0",
                  "9767.0",
                  "9.2",
                  "2015.0",
                  "425000000.0",
                  "2827123750.41189"
                ]
              ],
              "shape": {
                "columns": 10,
                "rows": 8
              }
            },
            "text/html": [
              "<div>\n",
              "<style scoped>\n",
              "    .dataframe tbody tr th:only-of-type {\n",
              "        vertical-align: middle;\n",
              "    }\n",
              "\n",
              "    .dataframe tbody tr th {\n",
              "        vertical-align: top;\n",
              "    }\n",
              "\n",
              "    .dataframe thead th {\n",
              "        text-align: right;\n",
              "    }\n",
              "</style>\n",
              "<table border=\"1\" class=\"dataframe\">\n",
              "  <thead>\n",
              "    <tr style=\"text-align: right;\">\n",
              "      <th></th>\n",
              "      <th>id</th>\n",
              "      <th>popularity</th>\n",
              "      <th>budget</th>\n",
              "      <th>revenue</th>\n",
              "      <th>runtime</th>\n",
              "      <th>vote_count</th>\n",
              "      <th>vote_average</th>\n",
              "      <th>release_year</th>\n",
              "      <th>budget_adj</th>\n",
              "      <th>revenue_adj</th>\n",
              "    </tr>\n",
              "  </thead>\n",
              "  <tbody>\n",
              "    <tr>\n",
              "      <th>count</th>\n",
              "      <td>10866.000000</td>\n",
              "      <td>10866.000000</td>\n",
              "      <td>1.086600e+04</td>\n",
              "      <td>1.086600e+04</td>\n",
              "      <td>10866.000000</td>\n",
              "      <td>10866.000000</td>\n",
              "      <td>10866.000000</td>\n",
              "      <td>10866.000000</td>\n",
              "      <td>1.086600e+04</td>\n",
              "      <td>1.086600e+04</td>\n",
              "    </tr>\n",
              "    <tr>\n",
              "      <th>mean</th>\n",
              "      <td>66064.177434</td>\n",
              "      <td>0.646441</td>\n",
              "      <td>1.462570e+07</td>\n",
              "      <td>3.982332e+07</td>\n",
              "      <td>102.070863</td>\n",
              "      <td>217.389748</td>\n",
              "      <td>5.974922</td>\n",
              "      <td>2001.322658</td>\n",
              "      <td>1.755104e+07</td>\n",
              "      <td>5.136436e+07</td>\n",
              "    </tr>\n",
              "    <tr>\n",
              "      <th>std</th>\n",
              "      <td>92130.136561</td>\n",
              "      <td>1.000185</td>\n",
              "      <td>3.091321e+07</td>\n",
              "      <td>1.170035e+08</td>\n",
              "      <td>31.381405</td>\n",
              "      <td>575.619058</td>\n",
              "      <td>0.935142</td>\n",
              "      <td>12.812941</td>\n",
              "      <td>3.430616e+07</td>\n",
              "      <td>1.446325e+08</td>\n",
              "    </tr>\n",
              "    <tr>\n",
              "      <th>min</th>\n",
              "      <td>5.000000</td>\n",
              "      <td>0.000065</td>\n",
              "      <td>0.000000e+00</td>\n",
              "      <td>0.000000e+00</td>\n",
              "      <td>0.000000</td>\n",
              "      <td>10.000000</td>\n",
              "      <td>1.500000</td>\n",
              "      <td>1960.000000</td>\n",
              "      <td>0.000000e+00</td>\n",
              "      <td>0.000000e+00</td>\n",
              "    </tr>\n",
              "    <tr>\n",
              "      <th>25%</th>\n",
              "      <td>10596.250000</td>\n",
              "      <td>0.207583</td>\n",
              "      <td>0.000000e+00</td>\n",
              "      <td>0.000000e+00</td>\n",
              "      <td>90.000000</td>\n",
              "      <td>17.000000</td>\n",
              "      <td>5.400000</td>\n",
              "      <td>1995.000000</td>\n",
              "      <td>0.000000e+00</td>\n",
              "      <td>0.000000e+00</td>\n",
              "    </tr>\n",
              "    <tr>\n",
              "      <th>50%</th>\n",
              "      <td>20669.000000</td>\n",
              "      <td>0.383856</td>\n",
              "      <td>0.000000e+00</td>\n",
              "      <td>0.000000e+00</td>\n",
              "      <td>99.000000</td>\n",
              "      <td>38.000000</td>\n",
              "      <td>6.000000</td>\n",
              "      <td>2006.000000</td>\n",
              "      <td>0.000000e+00</td>\n",
              "      <td>0.000000e+00</td>\n",
              "    </tr>\n",
              "    <tr>\n",
              "      <th>75%</th>\n",
              "      <td>75610.000000</td>\n",
              "      <td>0.713817</td>\n",
              "      <td>1.500000e+07</td>\n",
              "      <td>2.400000e+07</td>\n",
              "      <td>111.000000</td>\n",
              "      <td>145.750000</td>\n",
              "      <td>6.600000</td>\n",
              "      <td>2011.000000</td>\n",
              "      <td>2.085325e+07</td>\n",
              "      <td>3.369710e+07</td>\n",
              "    </tr>\n",
              "    <tr>\n",
              "      <th>max</th>\n",
              "      <td>417859.000000</td>\n",
              "      <td>32.985763</td>\n",
              "      <td>4.250000e+08</td>\n",
              "      <td>2.781506e+09</td>\n",
              "      <td>900.000000</td>\n",
              "      <td>9767.000000</td>\n",
              "      <td>9.200000</td>\n",
              "      <td>2015.000000</td>\n",
              "      <td>4.250000e+08</td>\n",
              "      <td>2.827124e+09</td>\n",
              "    </tr>\n",
              "  </tbody>\n",
              "</table>\n",
              "</div>"
            ],
            "text/plain": [
              "                  id    popularity        budget       revenue       runtime  \\\n",
              "count   10866.000000  10866.000000  1.086600e+04  1.086600e+04  10866.000000   \n",
              "mean    66064.177434      0.646441  1.462570e+07  3.982332e+07    102.070863   \n",
              "std     92130.136561      1.000185  3.091321e+07  1.170035e+08     31.381405   \n",
              "min         5.000000      0.000065  0.000000e+00  0.000000e+00      0.000000   \n",
              "25%     10596.250000      0.207583  0.000000e+00  0.000000e+00     90.000000   \n",
              "50%     20669.000000      0.383856  0.000000e+00  0.000000e+00     99.000000   \n",
              "75%     75610.000000      0.713817  1.500000e+07  2.400000e+07    111.000000   \n",
              "max    417859.000000     32.985763  4.250000e+08  2.781506e+09    900.000000   \n",
              "\n",
              "         vote_count  vote_average  release_year    budget_adj   revenue_adj  \n",
              "count  10866.000000  10866.000000  10866.000000  1.086600e+04  1.086600e+04  \n",
              "mean     217.389748      5.974922   2001.322658  1.755104e+07  5.136436e+07  \n",
              "std      575.619058      0.935142     12.812941  3.430616e+07  1.446325e+08  \n",
              "min       10.000000      1.500000   1960.000000  0.000000e+00  0.000000e+00  \n",
              "25%       17.000000      5.400000   1995.000000  0.000000e+00  0.000000e+00  \n",
              "50%       38.000000      6.000000   2006.000000  0.000000e+00  0.000000e+00  \n",
              "75%      145.750000      6.600000   2011.000000  2.085325e+07  3.369710e+07  \n",
              "max     9767.000000      9.200000   2015.000000  4.250000e+08  2.827124e+09  "
            ]
          },
          "execution_count": 6,
          "metadata": {},
          "output_type": "execute_result"
        }
      ],
      "source": [
        "tmdb.describe()"
      ]
    },
    {
      "cell_type": "markdown",
      "metadata": {
        "id": "ypgxC_z0BcM5"
      },
      "source": [
        "there is no problems\n",
        "\n",
        "\n",
        "---\n",
        "\n"
      ]
    },
    {
      "cell_type": "markdown",
      "metadata": {
        "id": "bJMMQ5pcrwsR"
      },
      "source": [
        "<a id=\"data cleaning\"></a>\n",
        "### Data Cleaning"
      ]
    },
    {
      "cell_type": "markdown",
      "metadata": {
        "id": "PgoGp06_rwsR"
      },
      "source": [
        "1st thing we will change the dtype of release_date column into date"
      ]
    },
    {
      "cell_type": "code",
      "execution_count": 7,
      "metadata": {
        "colab": {
          "base_uri": "https://localhost:8080/"
        },
        "id": "P0ib8gTErwsR",
        "outputId": "412a617b-be74-45bc-a719-593ddfe6baed"
      },
      "outputs": [
        {
          "name": "stderr",
          "output_type": "stream",
          "text": [
            "C:\\Users\\Lord Tech\\AppData\\Local\\Temp\\ipykernel_11332\\882240664.py:1: UserWarning: Could not infer format, so each element will be parsed individually, falling back to `dateutil`. To ensure parsing is consistent and as-expected, please specify a format.\n",
            "  tmdb[\"release_date\"] = pd.to_datetime(tmdb[\"release_date\"])\n"
          ]
        },
        {
          "name": "stdout",
          "output_type": "stream",
          "text": [
            "<class 'pandas.core.frame.DataFrame'>\n",
            "RangeIndex: 10866 entries, 0 to 10865\n",
            "Data columns (total 21 columns):\n",
            " #   Column                Non-Null Count  Dtype         \n",
            "---  ------                --------------  -----         \n",
            " 0   id                    10866 non-null  int64         \n",
            " 1   imdb_id               10856 non-null  object        \n",
            " 2   popularity            10866 non-null  float64       \n",
            " 3   budget                10866 non-null  int64         \n",
            " 4   revenue               10866 non-null  int64         \n",
            " 5   original_title        10866 non-null  object        \n",
            " 6   cast                  10790 non-null  object        \n",
            " 7   homepage              2936 non-null   object        \n",
            " 8   director              10822 non-null  object        \n",
            " 9   tagline               8042 non-null   object        \n",
            " 10  keywords              9373 non-null   object        \n",
            " 11  overview              10862 non-null  object        \n",
            " 12  runtime               10866 non-null  int64         \n",
            " 13  genres                10843 non-null  object        \n",
            " 14  production_companies  9836 non-null   object        \n",
            " 15  release_date          10866 non-null  datetime64[ns]\n",
            " 16  vote_count            10866 non-null  int64         \n",
            " 17  vote_average          10866 non-null  float64       \n",
            " 18  release_year          10866 non-null  int64         \n",
            " 19  budget_adj            10866 non-null  float64       \n",
            " 20  revenue_adj           10866 non-null  float64       \n",
            "dtypes: datetime64[ns](1), float64(4), int64(6), object(10)\n",
            "memory usage: 1.7+ MB\n"
          ]
        }
      ],
      "source": [
        "tmdb[\"release_date\"] = pd.to_datetime(tmdb[\"release_date\"])\n",
        "tmdb.info()"
      ]
    },
    {
      "cell_type": "markdown",
      "metadata": {
        "id": "YXz0163DrwsS"
      },
      "source": [
        "Here we change the release_date dtype into date\n",
        "\n",
        "---\n",
        "\n"
      ]
    },
    {
      "cell_type": "code",
      "execution_count": 8,
      "metadata": {
        "id": "vTmifI9wrwsS"
      },
      "outputs": [],
      "source": [
        "def missing_values(column , replaced):\n",
        "    tmdb[column] = tmdb[column].fillna(replaced)\n"
      ]
    },
    {
      "cell_type": "markdown",
      "metadata": {
        "id": "nNpbNPsprwsT"
      },
      "source": [
        "Now we will replace the missing values\n",
        "we will start first with imdb_id then the others"
      ]
    },
    {
      "cell_type": "code",
      "execution_count": 9,
      "metadata": {
        "id": "bhDdQfxdrwsT"
      },
      "outputs": [],
      "source": [
        "columns_fillna = [\"imdb_id\", \"cast\", \"homepage\", \"director\", \"tagline\", \"keywords\", \"overview\", \"genres\", \"production_companies\"]\n",
        "\n",
        "for col in columns_fillna:\n",
        "    missing_values(col, \"Unknown\")\n"
      ]
    },
    {
      "cell_type": "code",
      "execution_count": 10,
      "metadata": {
        "colab": {
          "base_uri": "https://localhost:8080/"
        },
        "id": "kuUdNKfrrwsU",
        "outputId": "a463d44b-948b-4841-d6ba-4e5855906fa2"
      },
      "outputs": [
        {
          "name": "stdout",
          "output_type": "stream",
          "text": [
            "<class 'pandas.core.frame.DataFrame'>\n",
            "RangeIndex: 10866 entries, 0 to 10865\n",
            "Data columns (total 21 columns):\n",
            " #   Column                Non-Null Count  Dtype         \n",
            "---  ------                --------------  -----         \n",
            " 0   id                    10866 non-null  int64         \n",
            " 1   imdb_id               10866 non-null  object        \n",
            " 2   popularity            10866 non-null  float64       \n",
            " 3   budget                10866 non-null  int64         \n",
            " 4   revenue               10866 non-null  int64         \n",
            " 5   original_title        10866 non-null  object        \n",
            " 6   cast                  10866 non-null  object        \n",
            " 7   homepage              10866 non-null  object        \n",
            " 8   director              10866 non-null  object        \n",
            " 9   tagline               10866 non-null  object        \n",
            " 10  keywords              10866 non-null  object        \n",
            " 11  overview              10866 non-null  object        \n",
            " 12  runtime               10866 non-null  int64         \n",
            " 13  genres                10866 non-null  object        \n",
            " 14  production_companies  10866 non-null  object        \n",
            " 15  release_date          10866 non-null  datetime64[ns]\n",
            " 16  vote_count            10866 non-null  int64         \n",
            " 17  vote_average          10866 non-null  float64       \n",
            " 18  release_year          10866 non-null  int64         \n",
            " 19  budget_adj            10866 non-null  float64       \n",
            " 20  revenue_adj           10866 non-null  float64       \n",
            "dtypes: datetime64[ns](1), float64(4), int64(6), object(10)\n",
            "memory usage: 1.7+ MB\n"
          ]
        }
      ],
      "source": [
        "tmdb.info()\n"
      ]
    },
    {
      "cell_type": "code",
      "execution_count": 11,
      "metadata": {
        "colab": {
          "base_uri": "https://localhost:8080/",
          "height": 743
        },
        "id": "MRBNzPDNrwsV",
        "outputId": "070f6ef8-bfda-4e38-8243-bd884d0487dc"
      },
      "outputs": [
        {
          "data": {
            "text/plain": [
              "id                      0\n",
              "imdb_id                 0\n",
              "popularity              0\n",
              "budget                  0\n",
              "revenue                 0\n",
              "original_title          0\n",
              "cast                    0\n",
              "homepage                0\n",
              "director                0\n",
              "tagline                 0\n",
              "keywords                0\n",
              "overview                0\n",
              "runtime                 0\n",
              "genres                  0\n",
              "production_companies    0\n",
              "release_date            0\n",
              "vote_count              0\n",
              "vote_average            0\n",
              "release_year            0\n",
              "budget_adj              0\n",
              "revenue_adj             0\n",
              "dtype: int64"
            ]
          },
          "execution_count": 11,
          "metadata": {},
          "output_type": "execute_result"
        }
      ],
      "source": [
        "tmdb.isna().sum()"
      ]
    },
    {
      "cell_type": "markdown",
      "metadata": {
        "id": "lLNFvyD1rwsV"
      },
      "source": [
        "Now we replaced all the missing values\n",
        "\n",
        "\n",
        "\n",
        "---\n",
        "\n"
      ]
    },
    {
      "cell_type": "markdown",
      "metadata": {
        "id": "LesRnIdqrwsW"
      },
      "source": [
        "Now we will drop the duplicates"
      ]
    },
    {
      "cell_type": "code",
      "execution_count": 12,
      "metadata": {
        "colab": {
          "base_uri": "https://localhost:8080/"
        },
        "id": "uk66RrU4rwsW",
        "outputId": "2e674078-7f49-490a-a790-625690fce819"
      },
      "outputs": [
        {
          "data": {
            "text/plain": [
              "np.int64(0)"
            ]
          },
          "execution_count": 12,
          "metadata": {},
          "output_type": "execute_result"
        }
      ],
      "source": [
        "tmdb = tmdb.drop_duplicates()\n",
        "tmdb.duplicated().sum()"
      ]
    },
    {
      "cell_type": "markdown",
      "metadata": {
        "id": "i-w1UeZmrwsX"
      },
      "source": [
        "now we dropped the duplicated row\n",
        "\n",
        "---\n"
      ]
    },
    {
      "cell_type": "markdown",
      "metadata": {
        "id": "CHp9YTaXrwsX"
      },
      "source": [
        "now we will check again"
      ]
    },
    {
      "cell_type": "code",
      "execution_count": 13,
      "metadata": {
        "colab": {
          "base_uri": "https://localhost:8080/"
        },
        "id": "C8JYvsrXrwsY",
        "outputId": "3d6ddde0-203f-46c5-c7ed-ce19b71cdc91"
      },
      "outputs": [
        {
          "name": "stdout",
          "output_type": "stream",
          "text": [
            "<class 'pandas.core.frame.DataFrame'>\n",
            "Index: 10865 entries, 0 to 10865\n",
            "Data columns (total 21 columns):\n",
            " #   Column                Non-Null Count  Dtype         \n",
            "---  ------                --------------  -----         \n",
            " 0   id                    10865 non-null  int64         \n",
            " 1   imdb_id               10865 non-null  object        \n",
            " 2   popularity            10865 non-null  float64       \n",
            " 3   budget                10865 non-null  int64         \n",
            " 4   revenue               10865 non-null  int64         \n",
            " 5   original_title        10865 non-null  object        \n",
            " 6   cast                  10865 non-null  object        \n",
            " 7   homepage              10865 non-null  object        \n",
            " 8   director              10865 non-null  object        \n",
            " 9   tagline               10865 non-null  object        \n",
            " 10  keywords              10865 non-null  object        \n",
            " 11  overview              10865 non-null  object        \n",
            " 12  runtime               10865 non-null  int64         \n",
            " 13  genres                10865 non-null  object        \n",
            " 14  production_companies  10865 non-null  object        \n",
            " 15  release_date          10865 non-null  datetime64[ns]\n",
            " 16  vote_count            10865 non-null  int64         \n",
            " 17  vote_average          10865 non-null  float64       \n",
            " 18  release_year          10865 non-null  int64         \n",
            " 19  budget_adj            10865 non-null  float64       \n",
            " 20  revenue_adj           10865 non-null  float64       \n",
            "dtypes: datetime64[ns](1), float64(4), int64(6), object(10)\n",
            "memory usage: 1.8+ MB\n"
          ]
        }
      ],
      "source": [
        "tmdb.info()"
      ]
    },
    {
      "cell_type": "markdown",
      "metadata": {
        "id": "pz1RDbGArwsZ"
      },
      "source": [
        "now there is no problems here"
      ]
    },
    {
      "cell_type": "code",
      "execution_count": 14,
      "metadata": {
        "colab": {
          "base_uri": "https://localhost:8080/",
          "height": 424
        },
        "id": "P4MCZwAKrwsc",
        "outputId": "a722e4ab-319a-4fac-8e96-09f8e3f94c4c"
      },
      "outputs": [
        {
          "data": {
            "application/vnd.microsoft.datawrangler.viewer.v0+json": {
              "columns": [
                {
                  "name": "index",
                  "rawType": "object",
                  "type": "string"
                },
                {
                  "name": "id",
                  "rawType": "float64",
                  "type": "float"
                },
                {
                  "name": "popularity",
                  "rawType": "float64",
                  "type": "float"
                },
                {
                  "name": "budget",
                  "rawType": "float64",
                  "type": "float"
                },
                {
                  "name": "revenue",
                  "rawType": "float64",
                  "type": "float"
                },
                {
                  "name": "runtime",
                  "rawType": "float64",
                  "type": "float"
                },
                {
                  "name": "release_date",
                  "rawType": "object",
                  "type": "unknown"
                },
                {
                  "name": "vote_count",
                  "rawType": "float64",
                  "type": "float"
                },
                {
                  "name": "vote_average",
                  "rawType": "float64",
                  "type": "float"
                },
                {
                  "name": "release_year",
                  "rawType": "float64",
                  "type": "float"
                },
                {
                  "name": "budget_adj",
                  "rawType": "float64",
                  "type": "float"
                },
                {
                  "name": "revenue_adj",
                  "rawType": "float64",
                  "type": "float"
                }
              ],
              "conversionMethod": "pd.DataFrame",
              "ref": "cd634875-cd96-49a2-a013-30e6ca2dd923",
              "rows": [
                [
                  "count",
                  "10865.0",
                  "10865.0",
                  "10865.0",
                  "10865.0",
                  "10865.0",
                  "10865",
                  "10865.0",
                  "10865.0",
                  "10865.0",
                  "10865.0",
                  "10865.0"
                ],
                [
                  "mean",
                  "66066.37441325356",
                  "0.6464455549010584",
                  "14624286.06433502",
                  "39826896.07685228",
                  "102.07179015186378",
                  "2007-05-14 21:31:25.651173376",
                  "217.39963184537507",
                  "5.97501150483203",
                  "2001.3218591808559",
                  "17549894.037320547",
                  "51369001.75884263"
                ],
                [
                  "min",
                  "5.0",
                  "6.5e-05",
                  "0.0",
                  "0.0",
                  "0.0",
                  "1975-01-01 00:00:00",
                  "10.0",
                  "1.5",
                  "1960.0",
                  "0.0",
                  "0.0"
                ],
                [
                  "25%",
                  "10596.0",
                  "0.207575",
                  "0.0",
                  "0.0",
                  "90.0",
                  "1998-04-17 00:00:00",
                  "17.0",
                  "5.4",
                  "1995.0",
                  "0.0",
                  "0.0"
                ],
                [
                  "50%",
                  "20662.0",
                  "0.383831",
                  "0.0",
                  "0.0",
                  "99.0",
                  "2007-08-03 00:00:00",
                  "38.0",
                  "6.0",
                  "2006.0",
                  "0.0",
                  "0.0"
                ],
                [
                  "75%",
                  "75612.0",
                  "0.713857",
                  "15000000.0",
                  "24000000.0",
                  "111.0",
                  "2012-10-05 00:00:00",
                  "146.0",
                  "6.6",
                  "2011.0",
                  "20853251.0844038",
                  "33701729.0094642"
                ],
                [
                  "max",
                  "417859.0",
                  "32.985763",
                  "425000000.0",
                  "2781505847.0",
                  "900.0",
                  "2074-12-20 00:00:00",
                  "9767.0",
                  "9.2",
                  "2015.0",
                  "425000000.0",
                  "2827123750.41189"
                ],
                [
                  "std",
                  "92134.09197109139",
                  "1.0002308502321764",
                  "30914284.610732637",
                  "117008277.45849429",
                  "31.382700581265123",
                  null,
                  "575.6446270353102",
                  "0.9351380715020826",
                  "12.813259778272068",
                  "34307526.65836441",
                  "144638333.12898582"
                ]
              ],
              "shape": {
                "columns": 11,
                "rows": 8
              }
            },
            "text/html": [
              "<div>\n",
              "<style scoped>\n",
              "    .dataframe tbody tr th:only-of-type {\n",
              "        vertical-align: middle;\n",
              "    }\n",
              "\n",
              "    .dataframe tbody tr th {\n",
              "        vertical-align: top;\n",
              "    }\n",
              "\n",
              "    .dataframe thead th {\n",
              "        text-align: right;\n",
              "    }\n",
              "</style>\n",
              "<table border=\"1\" class=\"dataframe\">\n",
              "  <thead>\n",
              "    <tr style=\"text-align: right;\">\n",
              "      <th></th>\n",
              "      <th>id</th>\n",
              "      <th>popularity</th>\n",
              "      <th>budget</th>\n",
              "      <th>revenue</th>\n",
              "      <th>runtime</th>\n",
              "      <th>release_date</th>\n",
              "      <th>vote_count</th>\n",
              "      <th>vote_average</th>\n",
              "      <th>release_year</th>\n",
              "      <th>budget_adj</th>\n",
              "      <th>revenue_adj</th>\n",
              "    </tr>\n",
              "  </thead>\n",
              "  <tbody>\n",
              "    <tr>\n",
              "      <th>count</th>\n",
              "      <td>10865.000000</td>\n",
              "      <td>10865.000000</td>\n",
              "      <td>1.086500e+04</td>\n",
              "      <td>1.086500e+04</td>\n",
              "      <td>10865.000000</td>\n",
              "      <td>10865</td>\n",
              "      <td>10865.000000</td>\n",
              "      <td>10865.000000</td>\n",
              "      <td>10865.000000</td>\n",
              "      <td>1.086500e+04</td>\n",
              "      <td>1.086500e+04</td>\n",
              "    </tr>\n",
              "    <tr>\n",
              "      <th>mean</th>\n",
              "      <td>66066.374413</td>\n",
              "      <td>0.646446</td>\n",
              "      <td>1.462429e+07</td>\n",
              "      <td>3.982690e+07</td>\n",
              "      <td>102.071790</td>\n",
              "      <td>2007-05-14 21:31:25.651173376</td>\n",
              "      <td>217.399632</td>\n",
              "      <td>5.975012</td>\n",
              "      <td>2001.321859</td>\n",
              "      <td>1.754989e+07</td>\n",
              "      <td>5.136900e+07</td>\n",
              "    </tr>\n",
              "    <tr>\n",
              "      <th>min</th>\n",
              "      <td>5.000000</td>\n",
              "      <td>0.000065</td>\n",
              "      <td>0.000000e+00</td>\n",
              "      <td>0.000000e+00</td>\n",
              "      <td>0.000000</td>\n",
              "      <td>1975-01-01 00:00:00</td>\n",
              "      <td>10.000000</td>\n",
              "      <td>1.500000</td>\n",
              "      <td>1960.000000</td>\n",
              "      <td>0.000000e+00</td>\n",
              "      <td>0.000000e+00</td>\n",
              "    </tr>\n",
              "    <tr>\n",
              "      <th>25%</th>\n",
              "      <td>10596.000000</td>\n",
              "      <td>0.207575</td>\n",
              "      <td>0.000000e+00</td>\n",
              "      <td>0.000000e+00</td>\n",
              "      <td>90.000000</td>\n",
              "      <td>1998-04-17 00:00:00</td>\n",
              "      <td>17.000000</td>\n",
              "      <td>5.400000</td>\n",
              "      <td>1995.000000</td>\n",
              "      <td>0.000000e+00</td>\n",
              "      <td>0.000000e+00</td>\n",
              "    </tr>\n",
              "    <tr>\n",
              "      <th>50%</th>\n",
              "      <td>20662.000000</td>\n",
              "      <td>0.383831</td>\n",
              "      <td>0.000000e+00</td>\n",
              "      <td>0.000000e+00</td>\n",
              "      <td>99.000000</td>\n",
              "      <td>2007-08-03 00:00:00</td>\n",
              "      <td>38.000000</td>\n",
              "      <td>6.000000</td>\n",
              "      <td>2006.000000</td>\n",
              "      <td>0.000000e+00</td>\n",
              "      <td>0.000000e+00</td>\n",
              "    </tr>\n",
              "    <tr>\n",
              "      <th>75%</th>\n",
              "      <td>75612.000000</td>\n",
              "      <td>0.713857</td>\n",
              "      <td>1.500000e+07</td>\n",
              "      <td>2.400000e+07</td>\n",
              "      <td>111.000000</td>\n",
              "      <td>2012-10-05 00:00:00</td>\n",
              "      <td>146.000000</td>\n",
              "      <td>6.600000</td>\n",
              "      <td>2011.000000</td>\n",
              "      <td>2.085325e+07</td>\n",
              "      <td>3.370173e+07</td>\n",
              "    </tr>\n",
              "    <tr>\n",
              "      <th>max</th>\n",
              "      <td>417859.000000</td>\n",
              "      <td>32.985763</td>\n",
              "      <td>4.250000e+08</td>\n",
              "      <td>2.781506e+09</td>\n",
              "      <td>900.000000</td>\n",
              "      <td>2074-12-20 00:00:00</td>\n",
              "      <td>9767.000000</td>\n",
              "      <td>9.200000</td>\n",
              "      <td>2015.000000</td>\n",
              "      <td>4.250000e+08</td>\n",
              "      <td>2.827124e+09</td>\n",
              "    </tr>\n",
              "    <tr>\n",
              "      <th>std</th>\n",
              "      <td>92134.091971</td>\n",
              "      <td>1.000231</td>\n",
              "      <td>3.091428e+07</td>\n",
              "      <td>1.170083e+08</td>\n",
              "      <td>31.382701</td>\n",
              "      <td>NaN</td>\n",
              "      <td>575.644627</td>\n",
              "      <td>0.935138</td>\n",
              "      <td>12.813260</td>\n",
              "      <td>3.430753e+07</td>\n",
              "      <td>1.446383e+08</td>\n",
              "    </tr>\n",
              "  </tbody>\n",
              "</table>\n",
              "</div>"
            ],
            "text/plain": [
              "                  id    popularity        budget       revenue       runtime  \\\n",
              "count   10865.000000  10865.000000  1.086500e+04  1.086500e+04  10865.000000   \n",
              "mean    66066.374413      0.646446  1.462429e+07  3.982690e+07    102.071790   \n",
              "min         5.000000      0.000065  0.000000e+00  0.000000e+00      0.000000   \n",
              "25%     10596.000000      0.207575  0.000000e+00  0.000000e+00     90.000000   \n",
              "50%     20662.000000      0.383831  0.000000e+00  0.000000e+00     99.000000   \n",
              "75%     75612.000000      0.713857  1.500000e+07  2.400000e+07    111.000000   \n",
              "max    417859.000000     32.985763  4.250000e+08  2.781506e+09    900.000000   \n",
              "std     92134.091971      1.000231  3.091428e+07  1.170083e+08     31.382701   \n",
              "\n",
              "                        release_date    vote_count  vote_average  \\\n",
              "count                          10865  10865.000000  10865.000000   \n",
              "mean   2007-05-14 21:31:25.651173376    217.399632      5.975012   \n",
              "min              1975-01-01 00:00:00     10.000000      1.500000   \n",
              "25%              1998-04-17 00:00:00     17.000000      5.400000   \n",
              "50%              2007-08-03 00:00:00     38.000000      6.000000   \n",
              "75%              2012-10-05 00:00:00    146.000000      6.600000   \n",
              "max              2074-12-20 00:00:00   9767.000000      9.200000   \n",
              "std                              NaN    575.644627      0.935138   \n",
              "\n",
              "       release_year    budget_adj   revenue_adj  \n",
              "count  10865.000000  1.086500e+04  1.086500e+04  \n",
              "mean    2001.321859  1.754989e+07  5.136900e+07  \n",
              "min     1960.000000  0.000000e+00  0.000000e+00  \n",
              "25%     1995.000000  0.000000e+00  0.000000e+00  \n",
              "50%     2006.000000  0.000000e+00  0.000000e+00  \n",
              "75%     2011.000000  2.085325e+07  3.370173e+07  \n",
              "max     2015.000000  4.250000e+08  2.827124e+09  \n",
              "std       12.813260  3.430753e+07  1.446383e+08  "
            ]
          },
          "execution_count": 14,
          "metadata": {},
          "output_type": "execute_result"
        }
      ],
      "source": [
        "tmdb.describe()"
      ]
    },
    {
      "cell_type": "markdown",
      "metadata": {
        "id": "BcNOpkhJrwsc"
      },
      "source": [
        "we noticed in release_date there is film published in 2074 and this is not logic\n",
        "we will change any date greater than 2025 into 1976-1-1"
      ]
    },
    {
      "cell_type": "code",
      "execution_count": 15,
      "metadata": {
        "id": "1lBwRUKzrwsd"
      },
      "outputs": [],
      "source": [
        "tmdb[\"release_date\"] = tmdb[\"release_date\"].apply(lambda x: pd.to_datetime(\"1976-01-01\") if x.year > 2025 else x)"
      ]
    },
    {
      "cell_type": "code",
      "execution_count": 16,
      "metadata": {
        "colab": {
          "base_uri": "https://localhost:8080/",
          "height": 424
        },
        "id": "uEyyXK02rwsd",
        "outputId": "12991f38-3883-4082-c7f4-9755c9db9f7e"
      },
      "outputs": [
        {
          "data": {
            "application/vnd.microsoft.datawrangler.viewer.v0+json": {
              "columns": [
                {
                  "name": "index",
                  "rawType": "object",
                  "type": "string"
                },
                {
                  "name": "id",
                  "rawType": "float64",
                  "type": "float"
                },
                {
                  "name": "popularity",
                  "rawType": "float64",
                  "type": "float"
                },
                {
                  "name": "budget",
                  "rawType": "float64",
                  "type": "float"
                },
                {
                  "name": "revenue",
                  "rawType": "float64",
                  "type": "float"
                },
                {
                  "name": "runtime",
                  "rawType": "float64",
                  "type": "float"
                },
                {
                  "name": "release_date",
                  "rawType": "object",
                  "type": "unknown"
                },
                {
                  "name": "vote_count",
                  "rawType": "float64",
                  "type": "float"
                },
                {
                  "name": "vote_average",
                  "rawType": "float64",
                  "type": "float"
                },
                {
                  "name": "release_year",
                  "rawType": "float64",
                  "type": "float"
                },
                {
                  "name": "budget_adj",
                  "rawType": "float64",
                  "type": "float"
                },
                {
                  "name": "revenue_adj",
                  "rawType": "float64",
                  "type": "float"
                }
              ],
              "conversionMethod": "pd.DataFrame",
              "ref": "48f8eccb-c54e-4e0a-92b5-f90b8ccb28dd",
              "rows": [
                [
                  "count",
                  "10865.0",
                  "10865.0",
                  "10865.0",
                  "10865.0",
                  "10865.0",
                  "10865",
                  "10865.0",
                  "10865.0",
                  "10865.0",
                  "10865.0",
                  "10865.0"
                ],
                [
                  "mean",
                  "66066.37441325356",
                  "0.6464455549010584",
                  "14624286.06433502",
                  "39826896.07685228",
                  "102.07179015186378",
                  "2002-04-12 03:41:35.977910656",
                  "217.39963184537507",
                  "5.97501150483203",
                  "2001.3218591808559",
                  "17549894.037320547",
                  "51369001.75884263"
                ],
                [
                  "min",
                  "5.0",
                  "6.5e-05",
                  "0.0",
                  "0.0",
                  "0.0",
                  "1975-01-01 00:00:00",
                  "10.0",
                  "1.5",
                  "1960.0",
                  "0.0",
                  "0.0"
                ],
                [
                  "25%",
                  "10596.0",
                  "0.207575",
                  "0.0",
                  "0.0",
                  "90.0",
                  "1995-03-17 00:00:00",
                  "17.0",
                  "5.4",
                  "1995.0",
                  "0.0",
                  "0.0"
                ],
                [
                  "50%",
                  "20662.0",
                  "0.383831",
                  "0.0",
                  "0.0",
                  "99.0",
                  "2006-02-10 00:00:00",
                  "38.0",
                  "6.0",
                  "2006.0",
                  "0.0",
                  "0.0"
                ],
                [
                  "75%",
                  "75612.0",
                  "0.713857",
                  "15000000.0",
                  "24000000.0",
                  "111.0",
                  "2011-09-30 00:00:00",
                  "146.0",
                  "6.6",
                  "2011.0",
                  "20853251.0844038",
                  "33701729.0094642"
                ],
                [
                  "max",
                  "417859.0",
                  "32.985763",
                  "425000000.0",
                  "2781505847.0",
                  "900.0",
                  "2015-12-31 00:00:00",
                  "9767.0",
                  "9.2",
                  "2015.0",
                  "425000000.0",
                  "2827123750.41189"
                ],
                [
                  "std",
                  "92134.09197109139",
                  "1.0002308502321764",
                  "30914284.610732637",
                  "117008277.45849429",
                  "31.382700581265123",
                  null,
                  "575.6446270353102",
                  "0.9351380715020826",
                  "12.813259778272068",
                  "34307526.65836441",
                  "144638333.12898582"
                ]
              ],
              "shape": {
                "columns": 11,
                "rows": 8
              }
            },
            "text/html": [
              "<div>\n",
              "<style scoped>\n",
              "    .dataframe tbody tr th:only-of-type {\n",
              "        vertical-align: middle;\n",
              "    }\n",
              "\n",
              "    .dataframe tbody tr th {\n",
              "        vertical-align: top;\n",
              "    }\n",
              "\n",
              "    .dataframe thead th {\n",
              "        text-align: right;\n",
              "    }\n",
              "</style>\n",
              "<table border=\"1\" class=\"dataframe\">\n",
              "  <thead>\n",
              "    <tr style=\"text-align: right;\">\n",
              "      <th></th>\n",
              "      <th>id</th>\n",
              "      <th>popularity</th>\n",
              "      <th>budget</th>\n",
              "      <th>revenue</th>\n",
              "      <th>runtime</th>\n",
              "      <th>release_date</th>\n",
              "      <th>vote_count</th>\n",
              "      <th>vote_average</th>\n",
              "      <th>release_year</th>\n",
              "      <th>budget_adj</th>\n",
              "      <th>revenue_adj</th>\n",
              "    </tr>\n",
              "  </thead>\n",
              "  <tbody>\n",
              "    <tr>\n",
              "      <th>count</th>\n",
              "      <td>10865.000000</td>\n",
              "      <td>10865.000000</td>\n",
              "      <td>1.086500e+04</td>\n",
              "      <td>1.086500e+04</td>\n",
              "      <td>10865.000000</td>\n",
              "      <td>10865</td>\n",
              "      <td>10865.000000</td>\n",
              "      <td>10865.000000</td>\n",
              "      <td>10865.000000</td>\n",
              "      <td>1.086500e+04</td>\n",
              "      <td>1.086500e+04</td>\n",
              "    </tr>\n",
              "    <tr>\n",
              "      <th>mean</th>\n",
              "      <td>66066.374413</td>\n",
              "      <td>0.646446</td>\n",
              "      <td>1.462429e+07</td>\n",
              "      <td>3.982690e+07</td>\n",
              "      <td>102.071790</td>\n",
              "      <td>2002-04-12 03:41:35.977910656</td>\n",
              "      <td>217.399632</td>\n",
              "      <td>5.975012</td>\n",
              "      <td>2001.321859</td>\n",
              "      <td>1.754989e+07</td>\n",
              "      <td>5.136900e+07</td>\n",
              "    </tr>\n",
              "    <tr>\n",
              "      <th>min</th>\n",
              "      <td>5.000000</td>\n",
              "      <td>0.000065</td>\n",
              "      <td>0.000000e+00</td>\n",
              "      <td>0.000000e+00</td>\n",
              "      <td>0.000000</td>\n",
              "      <td>1975-01-01 00:00:00</td>\n",
              "      <td>10.000000</td>\n",
              "      <td>1.500000</td>\n",
              "      <td>1960.000000</td>\n",
              "      <td>0.000000e+00</td>\n",
              "      <td>0.000000e+00</td>\n",
              "    </tr>\n",
              "    <tr>\n",
              "      <th>25%</th>\n",
              "      <td>10596.000000</td>\n",
              "      <td>0.207575</td>\n",
              "      <td>0.000000e+00</td>\n",
              "      <td>0.000000e+00</td>\n",
              "      <td>90.000000</td>\n",
              "      <td>1995-03-17 00:00:00</td>\n",
              "      <td>17.000000</td>\n",
              "      <td>5.400000</td>\n",
              "      <td>1995.000000</td>\n",
              "      <td>0.000000e+00</td>\n",
              "      <td>0.000000e+00</td>\n",
              "    </tr>\n",
              "    <tr>\n",
              "      <th>50%</th>\n",
              "      <td>20662.000000</td>\n",
              "      <td>0.383831</td>\n",
              "      <td>0.000000e+00</td>\n",
              "      <td>0.000000e+00</td>\n",
              "      <td>99.000000</td>\n",
              "      <td>2006-02-10 00:00:00</td>\n",
              "      <td>38.000000</td>\n",
              "      <td>6.000000</td>\n",
              "      <td>2006.000000</td>\n",
              "      <td>0.000000e+00</td>\n",
              "      <td>0.000000e+00</td>\n",
              "    </tr>\n",
              "    <tr>\n",
              "      <th>75%</th>\n",
              "      <td>75612.000000</td>\n",
              "      <td>0.713857</td>\n",
              "      <td>1.500000e+07</td>\n",
              "      <td>2.400000e+07</td>\n",
              "      <td>111.000000</td>\n",
              "      <td>2011-09-30 00:00:00</td>\n",
              "      <td>146.000000</td>\n",
              "      <td>6.600000</td>\n",
              "      <td>2011.000000</td>\n",
              "      <td>2.085325e+07</td>\n",
              "      <td>3.370173e+07</td>\n",
              "    </tr>\n",
              "    <tr>\n",
              "      <th>max</th>\n",
              "      <td>417859.000000</td>\n",
              "      <td>32.985763</td>\n",
              "      <td>4.250000e+08</td>\n",
              "      <td>2.781506e+09</td>\n",
              "      <td>900.000000</td>\n",
              "      <td>2015-12-31 00:00:00</td>\n",
              "      <td>9767.000000</td>\n",
              "      <td>9.200000</td>\n",
              "      <td>2015.000000</td>\n",
              "      <td>4.250000e+08</td>\n",
              "      <td>2.827124e+09</td>\n",
              "    </tr>\n",
              "    <tr>\n",
              "      <th>std</th>\n",
              "      <td>92134.091971</td>\n",
              "      <td>1.000231</td>\n",
              "      <td>3.091428e+07</td>\n",
              "      <td>1.170083e+08</td>\n",
              "      <td>31.382701</td>\n",
              "      <td>NaN</td>\n",
              "      <td>575.644627</td>\n",
              "      <td>0.935138</td>\n",
              "      <td>12.813260</td>\n",
              "      <td>3.430753e+07</td>\n",
              "      <td>1.446383e+08</td>\n",
              "    </tr>\n",
              "  </tbody>\n",
              "</table>\n",
              "</div>"
            ],
            "text/plain": [
              "                  id    popularity        budget       revenue       runtime  \\\n",
              "count   10865.000000  10865.000000  1.086500e+04  1.086500e+04  10865.000000   \n",
              "mean    66066.374413      0.646446  1.462429e+07  3.982690e+07    102.071790   \n",
              "min         5.000000      0.000065  0.000000e+00  0.000000e+00      0.000000   \n",
              "25%     10596.000000      0.207575  0.000000e+00  0.000000e+00     90.000000   \n",
              "50%     20662.000000      0.383831  0.000000e+00  0.000000e+00     99.000000   \n",
              "75%     75612.000000      0.713857  1.500000e+07  2.400000e+07    111.000000   \n",
              "max    417859.000000     32.985763  4.250000e+08  2.781506e+09    900.000000   \n",
              "std     92134.091971      1.000231  3.091428e+07  1.170083e+08     31.382701   \n",
              "\n",
              "                        release_date    vote_count  vote_average  \\\n",
              "count                          10865  10865.000000  10865.000000   \n",
              "mean   2002-04-12 03:41:35.977910656    217.399632      5.975012   \n",
              "min              1975-01-01 00:00:00     10.000000      1.500000   \n",
              "25%              1995-03-17 00:00:00     17.000000      5.400000   \n",
              "50%              2006-02-10 00:00:00     38.000000      6.000000   \n",
              "75%              2011-09-30 00:00:00    146.000000      6.600000   \n",
              "max              2015-12-31 00:00:00   9767.000000      9.200000   \n",
              "std                              NaN    575.644627      0.935138   \n",
              "\n",
              "       release_year    budget_adj   revenue_adj  \n",
              "count  10865.000000  1.086500e+04  1.086500e+04  \n",
              "mean    2001.321859  1.754989e+07  5.136900e+07  \n",
              "min     1960.000000  0.000000e+00  0.000000e+00  \n",
              "25%     1995.000000  0.000000e+00  0.000000e+00  \n",
              "50%     2006.000000  0.000000e+00  0.000000e+00  \n",
              "75%     2011.000000  2.085325e+07  3.370173e+07  \n",
              "max     2015.000000  4.250000e+08  2.827124e+09  \n",
              "std       12.813260  3.430753e+07  1.446383e+08  "
            ]
          },
          "execution_count": 16,
          "metadata": {},
          "output_type": "execute_result"
        }
      ],
      "source": [
        "tmdb.describe()"
      ]
    },
    {
      "cell_type": "markdown",
      "metadata": {
        "id": "VbOOTD2Wrwsd"
      },
      "source": [
        "Now the max date is 2015 so it is logic\n",
        "\n",
        "---"
      ]
    },
    {
      "cell_type": "markdown",
      "metadata": {
        "id": "wxjOKs95rwsf"
      },
      "source": [
        "<a id='eda'></a>\n",
        "## Exploratory Data Analysis\n",
        "\n",
        "### Research Question 1\n",
        "Is there Relation Between the budget and revenue?"
      ]
    },
    {
      "cell_type": "code",
      "execution_count": 28,
      "metadata": {
        "colab": {
          "base_uri": "https://localhost:8080/",
          "height": 656
        },
        "id": "H9wVqbg8rwsf",
        "outputId": "8b991719-33b0-496b-a448-422fe70d1892"
      },
      "outputs": [
        {
          "data": {
            "image/png": "[encoded data removed]",
            "text/plain": [
              "<Figure size 800x600 with 1 Axes>"
            ]
          },
          "metadata": {},
          "output_type": "display_data"
        }
      ],
      "source": [
        "plt.figure(figsize=(8, 6))\n",
        "sns.scatterplot(x=tmdb[\"budget\"], y=tmdb[\"revenue\"], alpha=0.7, data = tmdb , hue=\"release_year\", palette ='Blues')\n",
        "plt.xlabel(\"Budget\")\n",
        "plt.ylabel(\"Revenue\")\n",
        "plt.title(\"Budget vs Revenue\")\n",
        "plt.xscale(\"log\")\n",
        "plt.yscale(\"log\")\n",
        "plt.show()"
      ]
    },
    {
      "cell_type": "markdown",
      "metadata": {
        "id": "SBA69REqrwsf"
      },
      "source": [
        "Here we noticed that most of the films when the it's budget increase the revenue increase , but some films it's budget is high but the revenue is low and some films it's budget is low but it's revenue is high\n",
        "\n",
        "so the there is relation between budget and revenue\n",
        "\n",
        "\n",
        "---"
      ]
    },
    {
      "cell_type": "markdown",
      "metadata": {
        "id": "eCD3JJ6srwsg"
      },
      "source": [
        "### Research Question 2\n",
        "\n",
        "what is the most common run time ?"
      ]
    },
    {
      "cell_type": "code",
      "execution_count": null,
      "metadata": {
        "colab": {
          "base_uri": "https://localhost:8080/",
          "height": 542
        },
        "id": "disLc31Rrwsg",
        "outputId": "4cd117df-100f-4dd8-e86f-c55175a9b934"
      },
      "outputs": [
        {
          "data": {
            "image/png": "[encoded data removed]",
            "text/plain": [
              "<Figure size 800x600 with 1 Axes>"
            ]
          },
          "metadata": {},
          "output_type": "display_data"
        }
      ],
      "source": [
        "plt.figure(figsize=(8, 6))\n",
        "sns.kdeplot(tmdb['runtime'].clip(upper=250))\n",
        "plt.show()"
      ]
    },
    {
      "cell_type": "markdown",
      "metadata": {
        "id": "jebnsJsjrwsg"
      },
      "source": [
        "We noticed that the most common run time is between 50 and 150\n",
        "\n",
        "---"
      ]
    },
    {
      "cell_type": "markdown",
      "metadata": {
        "id": "9_d3Dnd9rwsh"
      },
      "source": [
        "<a id='conclusions'></a>\n",
        "## Conclusions"
      ]
    },
    {
      "cell_type": "markdown",
      "metadata": {
        "id": "qxsJIIs_rwsh"
      },
      "source": [
        "After all of that , we wrangled the data then we cleaned the data and we faced many problems like **invalid dtype** , **missing values** and **duplicates** .\n",
        "\n",
        "i was surprised when i know that there is 1 duplicate , i thought there is like **1000 duplicate** .\n",
        "\n",
        "this data frame was so hard because there is too much problems\n",
        "\n",
        "we made visualization to answer our question .\n",
        "\n",
        "**1st question is :** Is there Relation Between the budget and revenue?,\n",
        "and we made visualization to answer the question and we noticed that the relation between budget and revenue is direct relation relatively.\n",
        "\n",
        "**2nd question is :** what is the most common run time ?, \n",
        "and we made visualization to answer the question and we noticed that the most common run time for fils is between 50 to 150 min .\n",
        "\n",
        "the hardest thing in this dataset is that release date be **logic** .\n",
        "\n",
        "\n",
        "and thank you .\n",
        "\n"
      ]
    }
  ],
  "metadata": {
    "colab": {
      "provenance": []
    },
    "kernelspec": {
      "display_name": "Python 3",
      "name": "python3"
    },
    "language_info": {
      "codemirror_mode": {
        "name": "ipython",
        "version": 3
      },
      "file_extension": ".py",
      "mimetype": "text/x-python",
      "name": "python",
      "nbconvert_exporter": "python",
      "pygments_lexer": "ipython3",
      "version": "3.13.2"
    }
  },
  "nbformat": 4,
  "nbformat_minor": 0
}
